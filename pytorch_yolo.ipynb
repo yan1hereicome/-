{
  "cells": [
    {
      "cell_type": "code",
      "execution_count": null,
      "metadata": {
        "id": "wTVM6GO9-oXa"
      },
      "outputs": [],
      "source": [
        "import numpy as np\n",
        "import cv2, torch\n",
        "from google.colab.patches import cv2_imshow"
      ]
    },
    {
      "cell_type": "code",
      "execution_count": null,
      "metadata": {
        "id": "CEG1Zt1eAN7a"
      },
      "outputs": [],
      "source": [
        "# Check whether GPU is available or not\n",
        "print(torch.cuda.is_available())\n",
        "!nvidia-smi"
      ]
    },
    {
      "cell_type": "code",
      "execution_count": null,
      "metadata": {
        "id": "lVDNXLpnAmzU"
      },
      "outputs": [],
      "source": [
        "# Load the YOLOv5 model from the Pytorch Hub (https://pytorch.org/hub/)\n",
        "yolov5 = torch.hub.load('ultralytics/yolov5', 'yolov5l', pretrained=True)"
      ]
    },
    {
      "cell_type": "code",
      "execution_count": null,
      "metadata": {
        "id": "4x8LVfKDCt5q"
      },
      "outputs": [],
      "source": [
        "# Download an image from internet\n",
        "!wget -c 'https://dimg.donga.com/wps/NEWS/IMAGE/2014/11/26/68179447.1.jpg' -O 'test.jpg'"
      ]
    },
    {
      "cell_type": "code",
      "execution_count": null,
      "metadata": {
        "id": "xFnB0lNJA7sH"
      },
      "outputs": [],
      "source": [
        "# Load an image on internet\n",
        "image = cv2.imread('test.jpg')\n",
        "cv2_imshow(image)"
      ]
    },
    {
      "cell_type": "code",
      "execution_count": null,
      "metadata": {
        "id": "9fTZkJTlCvPR"
      },
      "outputs": [],
      "source": [
        "# Detect objects on the image using the YOLO\n",
        "results = yolov5(image)\n",
        "objects = results.xyxyn[0].detach().cpu().numpy()\n",
        "\n",
        "# Rescale object locations\n",
        "h, w, _ = image.shape\n",
        "objects[:,0:4] = objects[:,0:4] * [w, h, w, h]"
      ]
    },
    {
      "cell_type": "code",
      "execution_count": null,
      "metadata": {
        "id": "SjaScP9gCSL3"
      },
      "outputs": [],
      "source": [
        "# Show the image with results\n",
        "classes = [ 'person', 'bicycle', 'car', 'motorcycle', 'airplane', 'bus', 'train', 'truck', 'boat', 'traffic light',\n",
        "            'fire hydrant', 'stop sign', 'parking meter', 'bench', 'bird', 'cat', 'dog', 'horse', 'sheep', 'cow',\n",
        "            'elephant', 'bear', 'zebra', 'giraffe', 'backpack', 'umbrella', 'handbag', 'tie', 'suitcase', 'frisbee',\n",
        "            'skis', 'snowboard', 'sports ball', 'kite', 'baseball bat', 'baseball glove', 'skateboard', 'surfboard', 'tennis racket', 'bottle',\n",
        "            'wine glass', 'cup', 'fork', 'knife', 'spoon', 'bowl', 'banana', 'apple', 'sandwich', 'orange',\n",
        "            'broccoli', 'carrot', 'hot dog', 'pizza', 'donut', 'cake', 'chair', 'couch', 'potted plant', 'bed',\n",
        "            'dining table', 'toilet', 'tv', 'laptop', 'mouse', 'remote', 'keyboard', 'cell phone',\n",
        "            'microwave', 'oven', 'toaster', 'sink', 'refrigerator', 'book', 'clock', 'vase', 'scissors', 'teddy bear', 'hair drier', 'toothbrush' ]\n",
        "for obj in objects:\n",
        "    if obj[-2] > 0.5: # More than 0.5 confidence\n",
        "        tl, br = obj[0:2].astype('int'), obj[2:4].astype('int')\n",
        "        cv2.rectangle(image, tuple(tl), tuple(br), (0, 0, 255), 2)\n",
        "        cv2.putText(image, f'{classes[int(obj[-1])]}: {obj[-2]:.2f}', tuple(tl + (-2, -4)), cv2.FONT_HERSHEY_DUPLEX, 0.4, (0, 0, 255))\n",
        "cv2_imshow(image)"
      ]
    }
  ],
  "metadata": {
    "accelerator": "GPU",
    "colab": {
      "collapsed_sections": [],
      "name": "pytorch_yolo.ipynb",
      "provenance": []
    },
    "kernelspec": {
      "display_name": "Python 3",
      "name": "python3"
    },
    "language_info": {
      "name": "python"
    }
  },
  "nbformat": 4,
  "nbformat_minor": 0
}